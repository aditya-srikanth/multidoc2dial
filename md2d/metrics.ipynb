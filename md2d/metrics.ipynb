{
 "cells": [
  {
   "cell_type": "code",
   "execution_count": 1,
   "metadata": {},
   "outputs": [],
   "source": [
    "import sys\n",
    "import pytrec_eval\n",
    "from beir import util\n",
    "from beir.retrieval import models\n",
    "from beir.datasets.data_loader import GenericDataLoader\n",
    "from beir.retrieval.evaluation import EvaluateRetrieval\n",
    "from beir.retrieval.search.dense import DenseRetrievalExactSearch as DRES\n",
    "from typing import Type, List, Dict, Union, Tuple\n",
    "from models import Splade, BEIRSpladeModel, BEIRDPR\n",
    "from beir.retrieval.custom_metrics import mrr"
   ]
  },
  {
   "cell_type": "code",
   "execution_count": 1,
   "metadata": {},
   "outputs": [
    {
     "ename": "NameError",
     "evalue": "name 'Dict' is not defined",
     "output_type": "error",
     "traceback": [
      "\u001b[0;31m---------------------------------------------------------------------------\u001b[0m",
      "\u001b[0;31mNameError\u001b[0m                                 Traceback (most recent call last)",
      "\u001b[1;32m/home/adityasv/multidoc2dial/md2d/metrics.ipynb Cell 1'\u001b[0m in \u001b[0;36m<module>\u001b[0;34m\u001b[0m\n\u001b[0;32m----> <a href='vscode-notebook-cell://ssh-remote%2Bboston-cluster.lti.cs.cmu.edu/home/adityasv/multidoc2dial/md2d/metrics.ipynb#ch0000000vscode-remote?line=0'>1</a>\u001b[0m \u001b[39mdef\u001b[39;00m \u001b[39mevaluate\u001b[39m(qrels: Dict[\u001b[39mstr\u001b[39m, Dict[\u001b[39mstr\u001b[39m, \u001b[39mint\u001b[39m]],\n\u001b[1;32m      <a href='vscode-notebook-cell://ssh-remote%2Bboston-cluster.lti.cs.cmu.edu/home/adityasv/multidoc2dial/md2d/metrics.ipynb#ch0000000vscode-remote?line=1'>2</a>\u001b[0m              results: Dict[\u001b[39mstr\u001b[39m, Dict[\u001b[39mstr\u001b[39m, \u001b[39mfloat\u001b[39m]],\n\u001b[1;32m      <a href='vscode-notebook-cell://ssh-remote%2Bboston-cluster.lti.cs.cmu.edu/home/adityasv/multidoc2dial/md2d/metrics.ipynb#ch0000000vscode-remote?line=2'>3</a>\u001b[0m              k_values: List[\u001b[39mint\u001b[39m]) \u001b[39m-\u001b[39m\u001b[39m>\u001b[39m Tuple[Dict[\u001b[39mstr\u001b[39m, \u001b[39mfloat\u001b[39m], Dict[\u001b[39mstr\u001b[39m, \u001b[39mfloat\u001b[39m], Dict[\u001b[39mstr\u001b[39m, \u001b[39mfloat\u001b[39m], Dict[\u001b[39mstr\u001b[39m, \u001b[39mfloat\u001b[39m]]:\n\u001b[1;32m      <a href='vscode-notebook-cell://ssh-remote%2Bboston-cluster.lti.cs.cmu.edu/home/adityasv/multidoc2dial/md2d/metrics.ipynb#ch0000000vscode-remote?line=4'>5</a>\u001b[0m     ndcg \u001b[39m=\u001b[39m {}\n\u001b[1;32m      <a href='vscode-notebook-cell://ssh-remote%2Bboston-cluster.lti.cs.cmu.edu/home/adityasv/multidoc2dial/md2d/metrics.ipynb#ch0000000vscode-remote?line=5'>6</a>\u001b[0m     _map \u001b[39m=\u001b[39m {}\n",
      "\u001b[0;31mNameError\u001b[0m: name 'Dict' is not defined"
     ]
    }
   ],
   "source": [
    "def evaluate(qrels: Dict[str, Dict[str, int]],\n",
    "             results: Dict[str, Dict[str, float]],\n",
    "             k_values: List[int]) -> Tuple[Dict[str, float], Dict[str, float], Dict[str, float], Dict[str, float]]:\n",
    "\n",
    "    ndcg = {}\n",
    "    _map = {}\n",
    "    recall = {}\n",
    "    precision = {}\n",
    "    _mrr = {}\n",
    "\n",
    "    for k in k_values:\n",
    "        ndcg[f\"NDCG@{k}\"] = 0.0\n",
    "        _map[f\"MAP@{k}\"] = 0.0\n",
    "        recall[f\"Recall@{k}\"] = 0.0\n",
    "        precision[f\"P@{k}\"] = 0.0\n",
    "\n",
    "    map_string = \"map_cut.\" + \",\".join([str(k) for k in k_values])\n",
    "    ndcg_string = \"ndcg_cut.\" + \",\".join([str(k) for k in k_values])\n",
    "    recall_string = \"recall.\" + \",\".join([str(k) for k in k_values])\n",
    "    precision_string = \"P.\" + \",\".join([str(k) for k in k_values])\n",
    "    evaluator = pytrec_eval.RelevanceEvaluator(\n",
    "        qrels, {map_string, ndcg_string, recall_string, precision_string})\n",
    "    scores = evaluator.evaluate(results)\n",
    "\n",
    "    for query_id in scores.keys():\n",
    "        for k in k_values:\n",
    "            ndcg[f\"NDCG@{k}\"] += scores[query_id][\"ndcg_cut_\" + str(k)]\n",
    "            _map[f\"MAP@{k}\"] += scores[query_id][\"map_cut_\" + str(k)]\n",
    "            recall[f\"Recall@{k}\"] += scores[query_id][\"recall_\" + str(k)]\n",
    "            precision[f\"P@{k}\"] += scores[query_id][\"P_\" + str(k)]\n",
    "\n",
    "    for k in k_values:\n",
    "        ndcg[f\"NDCG@{k}\"] = round(ndcg[f\"NDCG@{k}\"]/len(scores), 5)\n",
    "        _map[f\"MAP@{k}\"] = round(_map[f\"MAP@{k}\"]/len(scores), 5)\n",
    "        recall[f\"Recall@{k}\"] = round(recall[f\"Recall@{k}\"]/len(scores), 5)\n",
    "        precision[f\"P@{k}\"] = round(precision[f\"P@{k}\"]/len(scores), 5)\n",
    "\n",
    "    _mrr = mrr(qrels, results, k_values)\n",
    "\n",
    "    for eval in [ndcg, _map, recall, precision, _mrr]:\n",
    "        for k in eval.keys():\n",
    "            print(\"{}: {:.4f}\".format(k, eval[k]))\n",
    "\n",
    "    return ndcg, _map, recall, precision, _mrr\n",
    "\n",
    "def recall_at_k(qrels, results, k=10):\n",
    "    recall = 0\n",
    "    counts = 0\n",
    "    for query_id in qrels.keys():\n",
    "        results_at_k = [doc_id for (doc_id, score) in sorted(results[query_id].items(), key=lambda x: x[1], reverse=True)][:k]\n",
    "        results_at_k = set(results_at_k)\n",
    "        for doc_id in qrels[query_id].keys():\n",
    "            if doc_id in results_at_k:\n",
    "                recall += 1\n",
    "            counts += 1\n",
    "\n",
    "    return recall/counts\n",
    "\n"
   ]
  },
  {
   "cell_type": "code",
   "execution_count": 1,
   "metadata": {},
   "outputs": [
    {
     "name": "stdout",
     "output_type": "stream",
     "text": [
      "4201\n"
     ]
    }
   ],
   "source": [
    "model_name='splade'\n",
    "\n",
    "results = {}\n",
    "with open(f'../retrieval_data/{model_name}-results.tsv', 'r') as fi:\n",
    "    for line in fi:\n",
    "        query_id, doc_id, score = line.strip().split('\\t')\n",
    "        score = float(score)\n",
    "        if query_id not in results:\n",
    "            results[query_id] ={}\n",
    "        results[query_id][doc_id] = score\n",
    "\n",
    "print(len(results))"
   ]
  },
  {
   "cell_type": "code",
   "execution_count": null,
   "metadata": {},
   "outputs": [],
   "source": [
    "\n",
    "corpus, queries, qrels = GenericDataLoader(\n",
    "    \"../retrieval_data/\").load(split=\"dev\")\n"
   ]
  }
 ],
 "metadata": {
  "interpreter": {
   "hash": "5562a638de32f7ce080a0f412fda4ff6e333cf88c52e7ca88af62c975ed5f576"
  },
  "kernelspec": {
   "display_name": "Python 3.9.7",
   "language": "python",
   "name": "python3"
  },
  "language_info": {
   "codemirror_mode": {
    "name": "ipython",
    "version": 3
   },
   "file_extension": ".py",
   "mimetype": "text/x-python",
   "name": "python",
   "nbconvert_exporter": "python",
   "pygments_lexer": "ipython3",
   "version": "3.9.7"
  },
  "orig_nbformat": 4
 },
 "nbformat": 4,
 "nbformat_minor": 2
}
