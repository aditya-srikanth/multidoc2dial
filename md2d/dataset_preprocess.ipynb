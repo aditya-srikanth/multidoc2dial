{
 "cells": [
  {
   "cell_type": "code",
   "execution_count": 10,
   "id": "6fd69122-6346-4d42-8f6a-66e85672996b",
   "metadata": {},
   "outputs": [],
   "source": [
    "import json\n",
    "import sys\n",
    "import os\n",
    "\n",
    "_PATH = '/home/adityasv/multidoc2dial/'\n",
    "sys.path.append(os.path.join(_PATH))  # noqa: E402 # isort:skip"
   ]
  },
  {
   "cell_type": "code",
   "execution_count": 11,
   "id": "4d5aafaf-79fd-4974-a0b6-3ba54748bf24",
   "metadata": {},
   "outputs": [],
   "source": [
    "val_data = json.load(open(_PATH + 'data/multidoc2dial/multidoc2dial_dial_validation.json','r'))\n",
    "docs = json.load(open(_PATH + 'data/multidoc2dial/multidoc2dial_doc.json','r'))\n",
    "\n",
    "DAs      = [line.strip() for line in open(_PATH + 'data/mdd_all/dd-generation-structure/val.{}'.format('da'), \"r\").readlines()]\n",
    "domains  = [line.strip() for line in open(_PATH + 'data/mdd_all/dd-generation-structure/val.{}'.format('domain'), \"r\").readlines()]\n",
    "pids     = [line.strip() for line in open(_PATH + 'data/mdd_all/dd-generation-structure/val.{}'.format('pids'), \"r\").readlines()]\n",
    "qids     = [line.strip() for line in open(_PATH + 'data/mdd_all/dd-generation-structure/val.{}'.format('qids'), \"r\").readlines()]\n",
    "sources  = [line.strip() for line in open(_PATH + 'data/mdd_all/dd-generation-structure/val.{}'.format('source'), \"r\").readlines()]\n",
    "targets  = [line.strip() for line in open(_PATH + 'data/mdd_all/dd-generation-structure/val.{}'.format('target'), \"r\").readlines()]\n",
    "titles   = [line.strip() for line in open(_PATH + 'data/mdd_all/dd-generation-structure/val.{}'.format('titles'), \"r\").readlines()]"
   ]
  },
  {
   "cell_type": "code",
   "execution_count": 12,
   "id": "43d5362c-a369-40cb-bfff-0776074a247f",
   "metadata": {},
   "outputs": [],
   "source": [
    "def text2line(text):\n",
    "    return text.replace(\"\\n\", \" \").replace(\"\\r\", \" \").replace(\"\\t\", \" \").strip()\n",
    "\n",
    "def split_text_section(spans, title):\n",
    "    def get_text(buff, title, span):\n",
    "        text = \" \".join(buff).replace(\"\\n\", \" \")\n",
    "        parent_titles = [title.replace(\"/\", \"-\").rsplit(\"#\")[0]]\n",
    "        if len(span[\"parent_titles\"]) > 1:\n",
    "            parent_titles = [ele['text'].replace(\"/\", \"-\").rsplit(\"#\")[0] for ele in span[\"parent_titles\"]]\n",
    "        text = \" / \".join(parent_titles) + \" // \" + text\n",
    "        return text2line(text)\n",
    "\n",
    "    buff = []\n",
    "    pre_sec, pre_title, pre_span = None, None, None\n",
    "    passages = []\n",
    "    subtitles = []\n",
    "        \n",
    "    for span_id in spans:\n",
    "        span = spans[span_id]\n",
    "        parent_titles = title\n",
    "        if len(span[\"parent_titles\"]) > 1:                        \n",
    "            parent_titles = [ele['text'].replace(\"/\", \"-\").rsplit(\"#\")[0] for ele in span[\"parent_titles\"]]\n",
    "            parent_titles = \" / \".join(parent_titles)\n",
    "        if pre_sec == span[\"id_sec\"] or pre_title == span[\"title\"].strip():\n",
    "            buff.append(span[\"text_sp\"])\n",
    "        elif buff:\n",
    "            text = get_text(buff, title, pre_span)\n",
    "            passages.append(text)\n",
    "            subtitles.append(parent_titles)\n",
    "            buff = [span[\"text_sp\"]]\n",
    "        else:\n",
    "            buff.append(span[\"text_sp\"])\n",
    "        pre_sec = span[\"id_sec\"]\n",
    "        pre_span = span\n",
    "        pre_title = span[\"title\"].strip()\n",
    "    if buff:\n",
    "        text = get_text(buff, title, span)\n",
    "        passages.append(text)\n",
    "        subtitles.append(parent_titles)\n",
    "    return passages, subtitles        "
   ]
  },
  {
   "cell_type": "code",
   "execution_count": 13,
   "id": "5a61c461-8187-4a60-9ff9-ef483ccc3875",
   "metadata": {},
   "outputs": [],
   "source": [
    "doc_passages = {}\n",
    "all_passages = []\n",
    "start_idx = 0\n",
    "for domain in docs['doc_data']:\n",
    "    for doc_id in docs['doc_data'][domain].keys():\n",
    "        ex = docs['doc_data'][domain][doc_id]\n",
    "        #passages = split_text(ex[\"doc_text\"]) # Token-based segmentation\n",
    "        passages, subtitles = split_text_section(ex[\"spans\"], ex[\"title\"])\n",
    "        all_passages.extend(passages)\n",
    "        doc_passages[ex[\"doc_id\"]] = (start_idx, len(passages))\n",
    "        start_idx += len(passages)\n",
    "        \n",
    "passage_map = {}\n",
    "for title in doc_passages:\n",
    "    psg_start_ix = doc_passages[title][0]\n",
    "    n_psgs = doc_passages[title][1]\n",
    "    for i in range(n_psgs):\n",
    "        passage_map[psg_start_ix + i] = {\"text\": all_passages[psg_start_ix + i], \"title\": title}"
   ]
  },
  {
   "cell_type": "code",
   "execution_count": 15,
   "id": "3e2c80ab-620d-430b-b464-36c127042125",
   "metadata": {},
   "outputs": [
    {
     "data": {
      "text/plain": [
       "{'text': 'Top 5 DMV Mistakes and How to Avoid Them //   3. Letting Insurance Lapse   Because we all pay indirectly for crashes involving uninsured motorists ,  New York State requires every motorist to maintain auto insurance every single day a vehicle is registered.  DMV works with insurance companies to electronically monitor your insurance coverage ,  and we know when coverage is dropped for any reason.  When that happens ,  we mail you an insurance inquiry letter to allow you to clear up the problem.  We send 500,000 inquiry letters a year.  If the inquiry letter does not resolve the problem ,  we must suspend the vehicle registration and ,  if it persists, your driver license!We suspend 300,000 registrations a year for failure to maintain insurance.  If you fail to maintain an updated address with us ,  you won t learn that you have an insurance problem ,  and we will suspend your registration and license.  Make sure you turn in your vehicle s license plates at DMV before you cancel your insurance policy.  Insurance policies must be from a company licensed in New York State.  Learn more about Insurances Lapes [2] and How to Surrender your Plates [3 ]',\n",
       " 'title': 'Top 5 DMV Mistakes and How to Avoid Them#3_0'}"
      ]
     },
     "execution_count": 15,
     "metadata": {},
     "output_type": "execute_result"
    }
   ],
   "source": [
    "passage_map[1806]"
   ]
  },
  {
   "cell_type": "code",
   "execution_count": 16,
   "id": "5b9042ce",
   "metadata": {},
   "outputs": [],
   "source": [
    "# encode documents\n",
    "\n",
    "with open(os.path.join(_PATH,\"retrieval_data/corpus.jsonl\"), 'w') as fo:\n",
    "\n",
    "    for passage_id, passage in passage_map.items():\n",
    "        out_line = {k:v for k,v in passage.items()}\n",
    "        out_line['_id'] = str(passage_id)\n",
    "        fo.write(json.dumps(out_line) + \"\\n\")"
   ]
  },
  {
   "cell_type": "code",
   "execution_count": 17,
   "id": "2702c1f4",
   "metadata": {},
   "outputs": [],
   "source": [
    "# get qrels for validation set\n",
    "\n",
    "os.makedirs(os.path.join(_PATH, \"retrieval_data\", \"qrels\"), exist_ok=True)\n",
    "with open(os.path.join(_PATH, \"retrieval_data\", 'qrels', 'dev.tsv'), 'w') as fo:\n",
    "    qids_path = os.path.join(_PATH, \"data\", \"mdd_all\", \"dd-generation-structure/val.qids\")\n",
    "    pids_path = os.path.join(_PATH, \"data\", \"mdd_all\", \"dd-generation-structure/val.pids\")\n",
    "\n",
    "    qids_data = open(qids_path, 'r')\n",
    "    pids_data = open(pids_path, 'r')\n",
    "\n",
    "    for qid, pid in zip(qids_data, pids_data):\n",
    "        qid = str(qid).strip()\n",
    "        pid = str(pid).strip()\n",
    "        fo.write('\\t'.join([qid, pid, \"1\"]) + '\\n')\n"
   ]
  },
  {
   "cell_type": "code",
   "execution_count": 21,
   "id": "8625836b-492b-4853-adf8-8da45174b8c6",
   "metadata": {},
   "outputs": [
    {
     "name": "stdout",
     "output_type": "stream",
     "text": [
      "train\n",
      "val\n",
      "test\n"
     ]
    }
   ],
   "source": [
    "# encode queries\n",
    "\n",
    "query_list = []\n",
    "\n",
    "for split in [\"train\", \"val\", \"test\"]:\n",
    "    print(split)\n",
    "    queries_source_path = os.path.join(_PATH, \"data\", \"mdd_all\", \"dd-generation-structure\", f\"{split}.source\")\n",
    "    qids_path = os.path.join(_PATH, \"data\", \"mdd_all\", \"dd-generation-structure\", f\"{split}.qids\")\n",
    "\n",
    "    queries_data = open(queries_source_path, 'r')\n",
    "    qids_data = open(qids_path, 'r')\n",
    "\n",
    "\n",
    "    for query, qid in zip(queries_data, qids_data):\n",
    "        out_line = {}\n",
    "        # query = query.replace(\"||\", \" [SEP] \") # EXTRA SPACES DON'T MATTER\n",
    "        query = query.replace(\"||\", \" \") # EXTRA SPACES DON'T MATTER\n",
    "        out_line['text'] = query.strip()\n",
    "        out_line['_id'] = qid.strip()\n",
    "        query_list.append(out_line)\n",
    "\n",
    "with open(os.path.join(_PATH,\"retrieval_data/queries.jsonl\"), 'w') as fo:\n",
    "    for query in query_list:\n",
    "        fo.write(json.dumps(query) + \"\\n\")"
   ]
  }
 ],
 "metadata": {
  "interpreter": {
   "hash": "5562a638de32f7ce080a0f412fda4ff6e333cf88c52e7ca88af62c975ed5f576"
  },
  "kernelspec": {
   "display_name": "Python 3 (ipykernel)",
   "language": "python",
   "name": "python3"
  },
  "language_info": {
   "codemirror_mode": {
    "name": "ipython",
    "version": 3
   },
   "file_extension": ".py",
   "mimetype": "text/x-python",
   "name": "python",
   "nbconvert_exporter": "python",
   "pygments_lexer": "ipython3",
   "version": "3.9.7"
  }
 },
 "nbformat": 4,
 "nbformat_minor": 5
}
