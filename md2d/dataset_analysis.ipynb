{
 "cells": [
  {
   "cell_type": "code",
   "execution_count": 2,
   "metadata": {},
   "outputs": [],
   "source": [
    "import json\n"
   ]
  },
  {
   "cell_type": "code",
   "execution_count": 5,
   "metadata": {},
   "outputs": [],
   "source": [
    "with open('../data/multidoc2dial/multidoc2dial_doc.json', 'r') as fi:\n",
    "    docs = json.load(fi)\n",
    "\n",
    "with open('../data/multidoc2dial/multidoc2dial_dial_validation.json', 'r') as fi:\n",
    "    validation_set = json.load(fi)"
   ]
  },
  {
   "cell_type": "code",
   "execution_count": 6,
   "metadata": {},
   "outputs": [
    {
     "data": {
      "text/plain": [
       "(dict_keys(['doc_data']),\n",
       " dict_keys(['ssa', 'va', 'dmv', 'studentaid']),\n",
       " dict_keys(['title', 'doc_id', 'domain', 'doc_text', 'spans', 'doc_html_ts', 'doc_html_raw']))"
      ]
     },
     "execution_count": 6,
     "metadata": {},
     "output_type": "execute_result"
    }
   ],
   "source": [
    "docs.keys(), docs['doc_data'].keys(), docs['doc_data']['ssa'][\"Benefits Planner: Survivors | Planning For Your Survivors | Social Security Administration#1_0\"].keys()"
   ]
  },
  {
   "cell_type": "code",
   "execution_count": 7,
   "metadata": {},
   "outputs": [
    {
     "data": {
      "text/plain": [
       "(dict_keys(['dial_data']),\n",
       " dict_keys(['dmv', 'ssa', 'va', 'studentaid']),\n",
       " {'dial_id': '1409501a35697e0ce68561e29577b90a',\n",
       "  'turns': [{'da': 'query_condition',\n",
       "    'references': [{'label': 'precondition',\n",
       "      'id_sp': '23',\n",
       "      'doc_id': 'Top 5 DMV Mistakes and How to Avoid Them#3_0'}],\n",
       "    'role': 'user',\n",
       "    'turn_id': 1,\n",
       "    'utterance': 'My insurance ended so what should i do'},\n",
       "   {'da': 'respond_solution',\n",
       "    'references': [{'label': 'solution',\n",
       "      'id_sp': '24',\n",
       "      'doc_id': 'Top 5 DMV Mistakes and How to Avoid Them#3_0'},\n",
       "     {'label': 'solution',\n",
       "      'id_sp': '25',\n",
       "      'doc_id': 'Top 5 DMV Mistakes and How to Avoid Them#3_0'},\n",
       "     {'label': 'solution',\n",
       "      'id_sp': '26',\n",
       "      'doc_id': 'Top 5 DMV Mistakes and How to Avoid Them#3_0'}],\n",
       "    'role': 'agent',\n",
       "    'turn_id': 2,\n",
       "    'utterance': 'You will need to get insurance or we will suspend your registration and license'},\n",
       "   {'da': 'query_condition',\n",
       "    'references': [{'label': 'precondition',\n",
       "      'id_sp': '28',\n",
       "      'doc_id': 'Top 5 DMV Mistakes and How to Avoid Them#3_0'}],\n",
       "    'role': 'user',\n",
       "    'turn_id': 3,\n",
       "    'utterance': \"Don't do that I'll get insurance\"},\n",
       "   {'da': 'respond_solution',\n",
       "    'references': [{'label': 'solution',\n",
       "      'id_sp': '29',\n",
       "      'doc_id': 'Top 5 DMV Mistakes and How to Avoid Them#3_0'}],\n",
       "    'role': 'agent',\n",
       "    'turn_id': 4,\n",
       "    'utterance': 'Okay, have you received a letter from the DMV letting you know how to clear things up?'},\n",
       "   {'da': 'query_solution',\n",
       "    'references': [{'label': 'solution',\n",
       "      'id_sp': '13',\n",
       "      'doc_id': 'Top 5 DMV Mistakes and How to Avoid Them#3_0'}],\n",
       "    'role': 'user',\n",
       "    'turn_id': 5,\n",
       "    'utterance': 'I have, that is why I am here to clear that up and change the address on my license and registration'},\n",
       "   {'da': 'respond_solution',\n",
       "    'references': [{'label': 'solution',\n",
       "      'id_sp': '13',\n",
       "      'doc_id': 'Top 5 DMV Mistakes and How to Avoid Them#3_0'}],\n",
       "    'role': 'agent',\n",
       "    'turn_id': 6,\n",
       "    'utterance': 'Okay, we can take care of that'},\n",
       "   {'da': 'query_condition',\n",
       "    'references': [{'label': 'precondition',\n",
       "      'id_sp': '24',\n",
       "      'doc_id': 'Help finding enough proof of ID#3_0'}],\n",
       "    'role': 'user',\n",
       "    'turn_id': 7,\n",
       "    'utterance': 'Thank you so much. After looking through these requirements that I need to bring to DMV, can you tell me whether a GED certificate will be a valid proof of identification?'},\n",
       "   {'da': 'respond_solution',\n",
       "    'references': [{'label': 'solution',\n",
       "      'id_sp': '25',\n",
       "      'doc_id': 'Help finding enough proof of ID#3_0'},\n",
       "     {'label': 'solution',\n",
       "      'id_sp': '26',\n",
       "      'doc_id': 'Help finding enough proof of ID#3_0'},\n",
       "     {'label': 'solution',\n",
       "      'id_sp': '27',\n",
       "      'doc_id': 'Help finding enough proof of ID#3_0'}],\n",
       "    'role': 'agent',\n",
       "    'turn_id': 8,\n",
       "    'utterance': 'Sure, it is. You can contact your college and get a certified copy.'},\n",
       "   {'da': 'query_solution',\n",
       "    'references': [{'label': 'solution',\n",
       "      'id_sp': '14',\n",
       "      'doc_id': 'Help finding enough proof of ID#3_0'},\n",
       "     {'label': 'solution',\n",
       "      'id_sp': '15',\n",
       "      'doc_id': 'Help finding enough proof of ID#3_0'},\n",
       "     {'label': 'solution',\n",
       "      'id_sp': '16',\n",
       "      'doc_id': 'Help finding enough proof of ID#3_0'}],\n",
       "    'role': 'user',\n",
       "    'turn_id': 9,\n",
       "    'utterance': 'Great. I think that I can found some bills, of some services, would that help too?'},\n",
       "   {'da': 'respond_solution',\n",
       "    'references': [{'label': 'solution',\n",
       "      'id_sp': '14',\n",
       "      'doc_id': 'Help finding enough proof of ID#3_0'},\n",
       "     {'label': 'solution',\n",
       "      'id_sp': '15',\n",
       "      'doc_id': 'Help finding enough proof of ID#3_0'},\n",
       "     {'label': 'solution',\n",
       "      'id_sp': '16',\n",
       "      'doc_id': 'Help finding enough proof of ID#3_0'}],\n",
       "    'role': 'agent',\n",
       "    'turn_id': 10,\n",
       "    'utterance': 'Yes, as long as they be a phone, electricity, gas, water or cable bill.'},\n",
       "   {'da': 'query_condition',\n",
       "    'references': [{'label': 'precondition',\n",
       "      'id_sp': '35',\n",
       "      'doc_id': 'Help finding enough proof of ID#3_0'}],\n",
       "    'role': 'user',\n",
       "    'turn_id': 11,\n",
       "    'utterance': 'Can I use my union card?'},\n",
       "   {'da': 'respond_solution',\n",
       "    'references': [{'label': 'solution',\n",
       "      'id_sp': '36',\n",
       "      'doc_id': 'Help finding enough proof of ID#3_0'},\n",
       "     {'label': 'solution',\n",
       "      'id_sp': '37',\n",
       "      'doc_id': 'Help finding enough proof of ID#3_0'},\n",
       "     {'label': 'solution',\n",
       "      'id_sp': '38',\n",
       "      'doc_id': 'Help finding enough proof of ID#3_0'}],\n",
       "    'role': 'agent',\n",
       "    'turn_id': 12,\n",
       "    'utterance': \"Yes, it's also a valid document, no matter if you have no longer that union job.\"}]})"
      ]
     },
     "execution_count": 7,
     "metadata": {},
     "output_type": "execute_result"
    }
   ],
   "source": [
    "validation_set.keys(), validation_set['dial_data'].keys(), list(validation_set['dial_data']['dmv'])[0]"
   ]
  },
  {
   "cell_type": "code",
   "execution_count": 8,
   "metadata": {},
   "outputs": [
    {
     "name": "stdout",
     "output_type": "stream",
     "text": [
      "ssa\n",
      "va\n",
      "dmv\n",
      "studentaid\n"
     ]
    }
   ],
   "source": [
    "# with open(\"corpus.jsonl\", 'w') as fo:\n",
    "\n",
    "#     for domain_name, domain_data in docs['doc_data'].items():\n",
    "#         print(domain_name)\n",
    "#         for document_id, doc_data in domain_data.items():\n",
    "#             text = doc_data['doc_text']\n",
    "#             passages = [i for i in text.split('\\n') if len(i) > 0]\n",
    "#             title = doc_data['title']\n",
    "#             for passage in passages:\n",
    "#                 out_line = {}\n",
    "#                 out_line['title'] = title\n",
    "#                 out_line['text'] = passage\n",
    "#                 out_line['metadata'] = {}\n",
    "#                 out_line['_id'] = document_id\n",
    "#                 fo.write(json.dumps(out_line) + \"\\n\")"
   ]
  },
  {
   "cell_type": "code",
   "execution_count": 10,
   "metadata": {},
   "outputs": [],
   "source": [
    "html_doc = \"<main><section><div><h2 sent_id=\\\"1\\\" text_id=\\\"1\\\">Benefits Planner: Survivors | Planning For Your Survivors</h2></div></section><section><div><article><section><div tag_id=\\\"1\\\"><u sent_id=\\\"2\\\" tag_id=\\\"1\\\"><u sent_id=\\\"2\\\" tag_id=\\\"1\\\" text_id=\\\"2\\\">As you plan for the future ,</u><u sent_id=\\\"2\\\" tag_id=\\\"1\\\" text_id=\\\"3\\\">you 'll want to think about what your family would need if you should die now .</u></u><u sent_id=\\\"3\\\" tag_id=\\\"1\\\"><u sent_id=\\\"3\\\" tag_id=\\\"1\\\" text_id=\\\"4\\\">Social Security can help your family if you have earned enough Social Security credits through your work .</u></u></div><div tag_id=\\\"2\\\"><u sent_id=\\\"4\\\" tag_id=\\\"2\\\"><u sent_id=\\\"4\\\" tag_id=\\\"2\\\" text_id=\\\"5\\\">You can earn up to four credits each year .</u></u><u sent_id=\\\"5\\\" tag_id=\\\"2\\\"><u sent_id=\\\"5\\\" tag_id=\\\"2\\\" text_id=\\\"6\\\">In 2019 ,</u><u sent_id=\\\"5\\\" tag_id=\\\"2\\\" text_id=\\\"7\\\">for example ,</u><u sent_id=\\\"5\\\" tag_id=\\\"2\\\" text_id=\\\"8\\\">you earn one credit for each $ 1,360 of wages or self - employment income .</u></u><u sent_id=\\\"6\\\" tag_id=\\\"2\\\"><u sent_id=\\\"6\\\" tag_id=\\\"2\\\" text_id=\\\"9\\\">When you have earned $ 5,440 ,</u><u sent_id=\\\"6\\\" tag_id=\\\"2\\\" text_id=\\\"10\\\">you have earned your four credits for the year .</u></u></div><div tag_id=\\\"3\\\"><u sent_id=\\\"7\\\" tag_id=\\\"3\\\"><u sent_id=\\\"7\\\" tag_id=\\\"3\\\" text_id=\\\"11\\\">The number of credits needed to provide benefits for your survivors depends on your age when you die .</u></u><u sent_id=\\\"8\\\" tag_id=\\\"3\\\"><u sent_id=\\\"8\\\" tag_id=\\\"3\\\" text_id=\\\"12\\\">No one needs more than 40 credits 10 years of work to be eligible for any Social Security benefit .</u></u><u sent_id=\\\"9\\\" tag_id=\\\"3\\\"><u sent_id=\\\"9\\\" tag_id=\\\"3\\\" text_id=\\\"13\\\">But ,</u><u sent_id=\\\"9\\\" tag_id=\\\"3\\\" text_id=\\\"14\\\">the younger a person is ,</u><u sent_id=\\\"9\\\" tag_id=\\\"3\\\" text_id=\\\"15\\\">the fewer credits they must have for family members to receive survivors benefits .</u></u></div><div tag_id=\\\"4\\\"><u sent_id=\\\"10\\\" tag_id=\\\"4\\\"><u sent_id=\\\"10\\\" tag_id=\\\"4\\\" text_id=\\\"16\\\">Benefits can be paid to your children and your spouse who is caring for the children even if you do n't have the required number of credits .</u></u><u sent_id=\\\"11\\\" tag_id=\\\"4\\\"><u sent_id=\\\"11\\\" tag_id=\\\"4\\\" text_id=\\\"17\\\">They can get benefits if you have credit for one and one - half years of work 6 credits in the three years just before your death .</u></u></div></section><section><h3 sent_id=\\\"12\\\" text_id=\\\"18\\\">For Your Widow Or Widower</h3><div tag_id=\\\"5\\\"><u sent_id=\\\"13\\\" tag_id=\\\"5\\\"><u sent_id=\\\"13\\\" tag_id=\\\"5\\\" text_id=\\\"19\\\">There are about five million widows and widowers receiving monthly Social Security benefits based on their deceased spouse 's earnings record .</u></u><u sent_id=\\\"14\\\" tag_id=\\\"5\\\"><u sent_id=\\\"14\\\" tag_id=\\\"5\\\" text_id=\\\"20\\\">And ,</u><u sent_id=\\\"14\\\" tag_id=\\\"5\\\" text_id=\\\"21\\\">for many of those survivors , particularly aged women , those benefits are keeping them out of poverty .</u></u></div><div tag_id=\\\"6\\\"><u sent_id=\\\"15\\\" tag_id=\\\"6\\\"><u sent_id=\\\"15\\\" tag_id=\\\"6\\\" text_id=\\\"22\\\">Widows and widowers can receive :</u></u></div><ul class=\\\"browser-default\\\" tag_id=\\\"6\\\"><li tag_id=\\\"6\\\"><u sent_id=\\\"16\\\" tag_id=\\\"6\\\"><u sent_id=\\\"16\\\" tag_id=\\\"6\\\" text_id=\\\"23\\\">reduced benefits as early as age 60 or full benefits at full retirement age or older .</u></u></li><div>If widows or widowers qualify for retirement benefits on their own record, they can switch to their own retirement benefit as early as age 62.</div><li tag_id=\\\"6\\\"><u sent_id=\\\"17\\\" tag_id=\\\"6\\\"><u sent_id=\\\"17\\\" tag_id=\\\"6\\\" text_id=\\\"24\\\">benefits as early as age 50 if they 're disabled AND their disability started before or within seven years of your death .</u></u></li><div>If a widow or widower who is caring for your children receives Social Security benefits, they're still eligible if their disability starts before those payments end or within seven years after they end.</div><li tag_id=\\\"6\\\"><u sent_id=\\\"18\\\" tag_id=\\\"6\\\"><u sent_id=\\\"18\\\" tag_id=\\\"6\\\" text_id=\\\"25\\\">benefits at any age ,</u><u sent_id=\\\"18\\\" tag_id=\\\"6\\\" text_id=\\\"26\\\">if they have not remarried ,</u><u sent_id=\\\"18\\\" tag_id=\\\"6\\\" text_id=\\\"27\\\">and if they take care of your child who is under age 16 or disabled and receives benefits on your record .</u></u></li><div>If a widow or widower remarries <strong>after they reach age 60</strong> (age 50 if disabled), the remarriage will not affect their eligibility for survivors benefits.</div></ul><div>Widows, widowers, and surviving divorced spouses cannot apply online for survivors benefits. They should <a>contact Social Security</a> at <nobr><strong>1-800-772-1213</strong></nobr> (TTY <nobr><strong>1-800-325-0778</strong>) to request an appointment.</nobr></div><div tag_id=\\\"7\\\"><u sent_id=\\\"19\\\" tag_id=\\\"7\\\"><u sent_id=\\\"19\\\" tag_id=\\\"7\\\" text_id=\\\"28\\\">If applying for disability benefits on a deceased worker s record ,</u><u sent_id=\\\"19\\\" tag_id=\\\"7\\\" text_id=\\\"29\\\">they can speed up the application process if they complete an Adult Disability Report and have it available at the time of their appointment .</u></u></div><div tag_id=\\\"8\\\"><u sent_id=\\\"20\\\" tag_id=\\\"8\\\"><u sent_id=\\\"20\\\" tag_id=\\\"8\\\" text_id=\\\"30\\\">We use the same definition of disability for widows and widowers as we do for workers .</u></u></div></section><section><h3 sent_id=\\\"21\\\" text_id=\\\"31\\\">For Your Surviving Divorced Spouse</h3><div tag_id=\\\"9\\\"><u sent_id=\\\"22\\\" tag_id=\\\"9\\\"><u sent_id=\\\"22\\\" tag_id=\\\"9\\\" text_id=\\\"32\\\">If you have a surviving divorced spouse ,</u><u sent_id=\\\"22\\\" tag_id=\\\"9\\\" text_id=\\\"33\\\">they could get the same benefits as your widow or widower provided that your marriage lasted 10 years or more .</u></u></div><div>If your surviving divorced spouse qualifies for retirement benefits on their own record they can switch to their own retirement benefit as early as age 62.</div><div tag_id=\\\"10\\\"><u sent_id=\\\"23\\\" tag_id=\\\"10\\\"><u sent_id=\\\"23\\\" tag_id=\\\"10\\\" text_id=\\\"34\\\">Benefits paid to a surviving divorced spouse wo n't affect the benefit amounts your other survivors will receive based on your earnings record .</u></u></div><div>If your surviving divorced spouse remarries <strong>after they reach age 60</strong> (age 50 if disabled), the remarriage will not affect their eligibility for survivors benefits.</div><div tag_id=\\\"11\\\"><u sent_id=\\\"24\\\" tag_id=\\\"11\\\"><u sent_id=\\\"24\\\" tag_id=\\\"11\\\" text_id=\\\"35\\\">If your former spouse is caring for your child who is under age 16 or disabled and gets benefits on your record ,</u><u sent_id=\\\"24\\\" tag_id=\\\"11\\\" text_id=\\\"36\\\">they will not have to meet the length - of - marriage rule .</u></u><u sent_id=\\\"25\\\" tag_id=\\\"11\\\"><u sent_id=\\\"25\\\" tag_id=\\\"11\\\" text_id=\\\"37\\\">The child must be your natural or legally adopted child .</u></u></div><div>However, if they qualify for benefits as a surviving divorced mother or father who is caring for your child, their benefits may affect the amount of benefits your other survivors will receive based on your earnings record.</div></section><section><h3 sent_id=\\\"26\\\" text_id=\\\"38\\\">For Your Children</h3><div tag_id=\\\"12\\\"><u sent_id=\\\"27\\\" tag_id=\\\"12\\\"><u sent_id=\\\"27\\\" tag_id=\\\"12\\\" text_id=\\\"39\\\">Your unmarried children who are under 18 up to age 19 if attending elementary or secondary school full time can be eligible to receive Social Security benefits when you die .</u></u></div><div tag_id=\\\"13\\\"><u sent_id=\\\"28\\\" tag_id=\\\"13\\\"><u sent_id=\\\"28\\\" tag_id=\\\"13\\\" text_id=\\\"40\\\">And your child can get benefits at any age if they were disabled before age 22 and remain disabled .</u></u></div><div tag_id=\\\"14\\\"><u sent_id=\\\"29\\\" tag_id=\\\"14\\\"><u sent_id=\\\"29\\\" tag_id=\\\"14\\\" text_id=\\\"41\\\">Besides your natural children ,</u><u sent_id=\\\"29\\\" tag_id=\\\"14\\\" text_id=\\\"42\\\">your stepchildren , grandchildren , step grandchildren or adopted children may receive benefits under certain circumstances .</u></u><u sent_id=\\\"30\\\" tag_id=\\\"14\\\"><u sent_id=\\\"30\\\" tag_id=\\\"14\\\" text_id=\\\"43\\\">For further information ,</u><u sent_id=\\\"30\\\" tag_id=\\\"14\\\" text_id=\\\"44\\\">view our publication .</u></u></div></section><section><h3 sent_id=\\\"31\\\" text_id=\\\"45\\\">For Your Parents</h3><div tag_id=\\\"15\\\"><u sent_id=\\\"32\\\" tag_id=\\\"15\\\"><u sent_id=\\\"32\\\" tag_id=\\\"15\\\" text_id=\\\"46\\\">You must have been providing at least half of your parent s support and your parent must not be eligible to receive a retirement benefit that is higher than the benefit we could pay on your record .</u></u><u sent_id=\\\"33\\\" tag_id=\\\"15\\\"><u sent_id=\\\"33\\\" tag_id=\\\"15\\\" text_id=\\\"47\\\">Generally , your parent also must not have married after your death ;</u><u sent_id=\\\"33\\\" tag_id=\\\"15\\\" text_id=\\\"48\\\">however , there are some exceptions .</u></u></div><div tag_id=\\\"16\\\"><u sent_id=\\\"34\\\" tag_id=\\\"16\\\"><u sent_id=\\\"34\\\" tag_id=\\\"16\\\" text_id=\\\"49\\\">In addition to your natural parent ,</u><u sent_id=\\\"34\\\" tag_id=\\\"16\\\" text_id=\\\"50\\\">your stepparent or adoptive parent may receive benefits if they became your parent before you were age 16 .</u></u></div></section><section><h3 sent_id=\\\"35\\\" text_id=\\\"51\\\">How Much Would Your Survivors Receive</h3><div tag_id=\\\"17\\\"><u sent_id=\\\"36\\\" tag_id=\\\"17\\\"><u sent_id=\\\"36\\\" tag_id=\\\"17\\\" text_id=\\\"52\\\">How much your family could receive in benefits</u><u sent_id=\\\"36\\\" tag_id=\\\"17\\\" text_id=\\\"53\\\">depends on your average lifetime earnings .</u></u><u sent_id=\\\"37\\\" tag_id=\\\"17\\\"><u sent_id=\\\"37\\\" tag_id=\\\"17\\\" text_id=\\\"54\\\">The higher your earnings were ,</u><u sent_id=\\\"37\\\" tag_id=\\\"17\\\" text_id=\\\"55\\\">the higher their benefits would be .</u></u><u sent_id=\\\"38\\\" tag_id=\\\"17\\\"><u sent_id=\\\"38\\\" tag_id=\\\"17\\\" text_id=\\\"56\\\">We calculate a basic amount as if you had reached full retirement age at the time you die .</u></u></div><div>If you are already receiving reduced benefits when you die, survivors benefits are based on that amount.</div><div tag_id=\\\"18\\\"><u sent_id=\\\"39\\\" tag_id=\\\"18\\\"><u sent_id=\\\"39\\\" tag_id=\\\"18\\\" text_id=\\\"57\\\">These are examples of monthly benefit payments :</u></u></div><ul class=\\\"browser-default\\\" tag_id=\\\"18\\\"><li tag_id=\\\"18\\\"><u sent_id=\\\"40\\\" tag_id=\\\"18\\\"><u sent_id=\\\"40\\\" tag_id=\\\"18\\\" text_id=\\\"58\\\">Widow or widower , full retirement age or older 100 percent of your benefit amount ;</u></u></li><li tag_id=\\\"18\\\"><u sent_id=\\\"41\\\" tag_id=\\\"18\\\"><u sent_id=\\\"41\\\" tag_id=\\\"18\\\" text_id=\\\"59\\\">Widow or widower ,</u><u sent_id=\\\"41\\\" tag_id=\\\"18\\\" text_id=\\\"60\\\">age 60 to full retirement age 71 to 99 percent of your basic amount ;</u></u></li><li tag_id=\\\"18\\\"><u sent_id=\\\"42\\\" tag_id=\\\"18\\\"><u sent_id=\\\"42\\\" tag_id=\\\"18\\\" text_id=\\\"61\\\">Disabled widow or widower ,</u><u sent_id=\\\"42\\\" tag_id=\\\"18\\\" text_id=\\\"62\\\">age 50 through 59 71 percent ;</u></u></li><li tag_id=\\\"18\\\"><u sent_id=\\\"43\\\" tag_id=\\\"18\\\"><u sent_id=\\\"43\\\" tag_id=\\\"18\\\" text_id=\\\"63\\\">Widow or widower ,</u><u sent_id=\\\"43\\\" tag_id=\\\"18\\\" text_id=\\\"64\\\">any age , caring for a child under age 16 75 percent ;</u></u></li><li tag_id=\\\"18\\\"><u sent_id=\\\"44\\\" tag_id=\\\"18\\\"><u sent_id=\\\"44\\\" tag_id=\\\"18\\\" text_id=\\\"65\\\">A child under age 18 19 if still in elementary or secondary school or disabled 75 percent ;</u><u sent_id=\\\"44\\\" tag_id=\\\"18\\\" text_id=\\\"66\\\">and</u></u></li><li tag_id=\\\"18\\\"><div tag_id=\\\"18\\\"><u sent_id=\\\"48\\\" tag_id=\\\"18\\\"><u sent_id=\\\"48\\\" tag_id=\\\"18\\\" text_id=\\\"67\\\">Your dependent parent ,</u><u sent_id=\\\"48\\\" tag_id=\\\"18\\\" text_id=\\\"68\\\">age 62 or older :</u></u></div><ul class=\\\"browser-default\\\" tag_id=\\\"18\\\"><li tag_id=\\\"18\\\"><u sent_id=\\\"49\\\" tag_id=\\\"18\\\"><u sent_id=\\\"49\\\" tag_id=\\\"18\\\" text_id=\\\"69\\\">One surviving parent 82 percent .</u></u></li><li tag_id=\\\"18\\\"><u sent_id=\\\"50\\\" tag_id=\\\"18\\\"><u sent_id=\\\"50\\\" tag_id=\\\"18\\\" text_id=\\\"70\\\">Two surviving parents 75 percent to each parent .</u></u></li></ul></li></ul><div tag_id=\\\"19\\\"><u sent_id=\\\"51\\\" tag_id=\\\"19\\\"><u sent_id=\\\"51\\\" tag_id=\\\"19\\\" text_id=\\\"71\\\">Percentages for a surviving divorced spouse would be the same as above .</u></u></div><div tag_id=\\\"20\\\"><u sent_id=\\\"52\\\" tag_id=\\\"20\\\"><u sent_id=\\\"52\\\" tag_id=\\\"20\\\" text_id=\\\"72\\\">There may also be a special lump - sum death payment .</u></u></div><h3 sent_id=\\\"53\\\" text_id=\\\"73\\\">Maximum Family Amount</h3><div tag_id=\\\"21\\\"><u sent_id=\\\"54\\\" tag_id=\\\"21\\\"><u sent_id=\\\"54\\\" tag_id=\\\"21\\\" text_id=\\\"74\\\">There 's a limit to the amount that family members can receive each month .</u></u><u sent_id=\\\"55\\\" tag_id=\\\"21\\\"><u sent_id=\\\"55\\\" tag_id=\\\"21\\\" text_id=\\\"75\\\">The limit varies ,</u><u sent_id=\\\"55\\\" tag_id=\\\"21\\\" text_id=\\\"76\\\">but it is generally equal to between 150 and 180 percent of the basic benefit rate .</u></u></div><div tag_id=\\\"22\\\"><u sent_id=\\\"56\\\" tag_id=\\\"22\\\"><u sent_id=\\\"56\\\" tag_id=\\\"22\\\" text_id=\\\"77\\\">If the sum of the benefits payable to family members is greater than this limit ,</u><u sent_id=\\\"56\\\" tag_id=\\\"22\\\" text_id=\\\"78\\\">the benefits will be reduced proportionately .</u></u><u sent_id=\\\"57\\\" tag_id=\\\"22\\\"><u sent_id=\\\"57\\\" tag_id=\\\"22\\\" text_id=\\\"79\\\">Any benefits paid to a surviving divorced spouse based on disability or age wo n't count toward this maximum amount .</u></u></div><div tag_id=\\\"23\\\"><u sent_id=\\\"58\\\" tag_id=\\\"23\\\"><u sent_id=\\\"58\\\" tag_id=\\\"23\\\" text_id=\\\"80\\\">Get your online or check our Benefit Calculators for an estimate of the benefits your family could receive if you died right now .</u></u></div><h3 sent_id=\\\"59\\\" text_id=\\\"81\\\">Other Things You Need To Know</h3><div tag_id=\\\"24\\\"><u sent_id=\\\"60\\\" tag_id=\\\"24\\\"><u sent_id=\\\"60\\\" tag_id=\\\"24\\\" text_id=\\\"82\\\">There are limits on how much survivors may earn while they receive benefits .</u></u></div><div tag_id=\\\"25\\\"><u sent_id=\\\"61\\\" tag_id=\\\"25\\\"><u sent_id=\\\"61\\\" tag_id=\\\"25\\\" text_id=\\\"83\\\">Benefits for a widow , widower , or surviving divorced spouse may be affected by several additional factors :</u></u></div><div><a>If they remarry</a><section><div tag_id=\\\"26\\\"><u sent_id=\\\"62\\\" tag_id=\\\"26\\\"><u sent_id=\\\"62\\\" tag_id=\\\"26\\\" text_id=\\\"84\\\">If your widow , widower , or surviving divorced spouse remarries before they reach age 60 age 50 if disabled ,</u><u sent_id=\\\"62\\\" tag_id=\\\"26\\\" text_id=\\\"85\\\">they can not receive benefits as a surviving spouse while they 're married .</u></u></div><div tag_id=\\\"27\\\"><u sent_id=\\\"63\\\" tag_id=\\\"27\\\"><u sent_id=\\\"63\\\" tag_id=\\\"27\\\" text_id=\\\"86\\\">If your widow , widower , or surviving divorced spouse remarries after they reach age 60 age 50 if disabled ,</u><u sent_id=\\\"63\\\" tag_id=\\\"27\\\" text_id=\\\"87\\\">they will continue to qualify for benefits on your Social Security record .</u></u></div><div tag_id=\\\"28\\\"><u sent_id=\\\"64\\\" tag_id=\\\"28\\\"><u sent_id=\\\"64\\\" tag_id=\\\"28\\\" text_id=\\\"88\\\">However ,</u><u sent_id=\\\"64\\\" tag_id=\\\"28\\\" text_id=\\\"89\\\">if their current spouse is a Social Security beneficiary ,</u><u sent_id=\\\"64\\\" tag_id=\\\"28\\\" text_id=\\\"90\\\">they may want to apply for spouse 's benefits on their record .</u></u><u sent_id=\\\"65\\\" tag_id=\\\"28\\\"><u sent_id=\\\"65\\\" tag_id=\\\"28\\\" text_id=\\\"91\\\">If that amount is more than the widow 's or widower 's benefit on your record ,</u><u sent_id=\\\"65\\\" tag_id=\\\"28\\\" text_id=\\\"92\\\">they will receive a combination of benefits that equals the higher amount .</u></u></div></section></div><div><a>If they're eligible for retirement benefits on their own record</a><section><div tag_id=\\\"29\\\"><u sent_id=\\\"66\\\" tag_id=\\\"29\\\"><u sent_id=\\\"66\\\" tag_id=\\\"29\\\" text_id=\\\"93\\\">If your widow , widower , or surviving divorced spouse receives benefits on your record ,</u><u sent_id=\\\"66\\\" tag_id=\\\"29\\\" text_id=\\\"94\\\">they can switch to their own retirement benefit as early as age 62 .</u></u><u sent_id=\\\"67\\\" tag_id=\\\"29\\\"><u sent_id=\\\"67\\\" tag_id=\\\"29\\\" text_id=\\\"95\\\">This assumes they 're eligible for retirement benefits and their retirement rate is higher than their rate as a widow , widower , or surviving divorced spouse .</u></u></div><div tag_id=\\\"30\\\"><u sent_id=\\\"68\\\" tag_id=\\\"30\\\"><u sent_id=\\\"68\\\" tag_id=\\\"30\\\" text_id=\\\"96\\\">In many cases ,</u><u sent_id=\\\"68\\\" tag_id=\\\"30\\\" text_id=\\\"97\\\">a widow or widower can begin receiving one benefit at a reduced rate and then , at full retirement age , switch to the other benefit at an unreduced rate .</u></u></div><div><a>Full retirement age for retirement benefits</a> may not match full retirement age for survivors benefits.</div></section></div><div><a>If they will also receive a pension based on work not covered by Social Security</a><section><div tag_id=\\\"31\\\"><u sent_id=\\\"69\\\" tag_id=\\\"31\\\"><u sent_id=\\\"69\\\" tag_id=\\\"31\\\" text_id=\\\"98\\\">If your widow , widower , or surviving divorced spouse will also receive a pension based on work not covered by Social Security , such as government or foreign work ,</u><u sent_id=\\\"69\\\" tag_id=\\\"31\\\" text_id=\\\"99\\\">their Social Security benefits as a survivor may be affected .</u></u></div></section></div></section></article></div></section></main>\""
   ]
  },
  {
   "cell_type": "code",
   "execution_count": null,
   "metadata": {},
   "outputs": [],
   "source": [
    "from bs4 import BeautifulSoup \n",
    "\n",
    "soup = BeautifulSoup(html_doc, 'html.parser')\n"
   ]
  },
  {
   "cell_type": "code",
   "execution_count": 6,
   "metadata": {},
   "outputs": [
    {
     "name": "stdout",
     "output_type": "stream",
     "text": [
      "dmv\n",
      "ssa\n",
      "va\n",
      "studentaid\n"
     ]
    }
   ],
   "source": [
    "with open(\"queries.jsonl\", 'w') as fo:\n",
    "\n",
    "    for domain_name, domain_data in validation_set['dial_data'].items():\n",
    "        print(domain_name)\n",
    "        for dial_data in domain_data:\n",
    "            dial_id = dial_data['dial_id']\n",
    "            for turn in dial_data['turns']:\n",
    "                if turn['role'] == 'user': # retrieve only for user questions\n",
    "                    query = turn['utterance']\n",
    "                    turn_id = turn['turn_id']\n",
    "                    query_key = f\"{dial_id}##SEP##{turn_id}\"\n",
    "                    meta_data = {\"references\": turn['references']}\n",
    "                   \n",
    "                    out_line = {}\n",
    "                    out_line['text'] = query\n",
    "                    out_line['metadata'] = meta_data\n",
    "                    out_line['_id'] = turn_id\n",
    "                    fo.write(json.dumps(out_line) + \"\\n\")\n",
    "\n"
   ]
  }
 ],
 "metadata": {
  "interpreter": {
   "hash": "7f172ef978b02cc2b171e8d05b92769c912d8fe35767449f06862063857d982b"
  },
  "kernelspec": {
   "display_name": "Python 3.9.6 ('10601')",
   "language": "python",
   "name": "python3"
  },
  "language_info": {
   "codemirror_mode": {
    "name": "ipython",
    "version": 3
   },
   "file_extension": ".py",
   "mimetype": "text/x-python",
   "name": "python",
   "nbconvert_exporter": "python",
   "pygments_lexer": "ipython3",
   "version": "3.9.7"
  },
  "orig_nbformat": 4
 },
 "nbformat": 4,
 "nbformat_minor": 2
}
